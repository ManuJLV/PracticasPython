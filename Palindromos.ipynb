{
  "nbformat": 4,
  "nbformat_minor": 0,
  "metadata": {
    "colab": {
      "provenance": [],
      "authorship_tag": "ABX9TyMP1LIaAGu3/tyja40329jA",
      "include_colab_link": true
    },
    "kernelspec": {
      "name": "python3",
      "display_name": "Python 3"
    },
    "language_info": {
      "name": "python"
    }
  },
  "cells": [
    {
      "cell_type": "markdown",
      "metadata": {
        "id": "view-in-github",
        "colab_type": "text"
      },
      "source": [
        "<a href=\"https://colab.research.google.com/github/ManuJLV/PracticasPython/blob/main/Palindromos.ipynb\" target=\"_parent\"><img src=\"https://colab.research.google.com/assets/colab-badge.svg\" alt=\"Open In Colab\"/></a>"
      ]
    },
    {
      "cell_type": "code",
      "execution_count": null,
      "metadata": {
        "colab": {
          "base_uri": "https://localhost:8080/"
        },
        "id": "Cxymyp_jyvGr",
        "outputId": "44ddccd4-b0bc-42b1-ca38-3913224ea707"
      },
      "outputs": [
        {
          "output_type": "stream",
          "name": "stdout",
          "text": [
            "Ingrese una palabra/frase: ¡¿Aná?!\n",
            "La palabra que ingreso fue:  ¡¿Aná?!\n"
          ]
        }
      ],
      "source": [
        "#Crea un programa que verifique si una palabra o frase es un palíndromo (se lee igual al derecho y al revés, ignorando espacios y signos de puntuación)\n",
        "#Primero, pedir al usuario que ingrese una frase o palabra\n",
        "frase = input(\"Ingrese una palabra/frase: \").strip()\n",
        "print(\"La palabra que ingreso fue: \", frase)"
      ]
    },
    {
      "cell_type": "code",
      "source": [
        "import string\n",
        "import unicodedata\n",
        "frase = unicodedata.normalize(\"NFKD\", frase).encode(\"ASCII\", \"ignore\").decode(\"utf-8\")\n",
        "frase = frase.translate(str.maketrans(\"\", \"\", string.punctuation + \"¡¿\"))\n",
        "print(frase)\n"
      ],
      "metadata": {
        "colab": {
          "base_uri": "https://localhost:8080/"
        },
        "id": "Bahl2BKk30Hk",
        "outputId": "b3ed5560-23aa-4379-8c52-23cbb33cb181"
      },
      "execution_count": null,
      "outputs": [
        {
          "output_type": "stream",
          "name": "stdout",
          "text": [
            "Ana\n"
          ]
        }
      ]
    },
    {
      "cell_type": "code",
      "source": [
        "#Lo siguiente por hacer es limpiar el texto, quitando mayúsculas y espacios\n",
        "frase = frase.lower()\n",
        "frase = frase.replace(\" \", \"\")\n",
        "print(frase)"
      ],
      "metadata": {
        "colab": {
          "base_uri": "https://localhost:8080/"
        },
        "id": "TgqVpjgIzXIR",
        "outputId": "e187399c-410c-4b92-94ed-66f8d283fb39"
      },
      "execution_count": null,
      "outputs": [
        {
          "output_type": "stream",
          "name": "stdout",
          "text": [
            "ana\n"
          ]
        }
      ]
    },
    {
      "cell_type": "code",
      "source": [
        "#Ahora se va a comprara la frase con su version invertida\n",
        "frase_invertida = frase[::-1]\n",
        "print('Frase invertida: ',frase_invertida)\n",
        "if(frase_invertida == frase):\n",
        "    print('\"', frase,'\"', '---> Es un palíndromo')\n",
        "else:\n",
        "    print('\"', frase,'\"', '---> NO es un palíndromo')"
      ],
      "metadata": {
        "colab": {
          "base_uri": "https://localhost:8080/"
        },
        "id": "Hp-G3maOzpZT",
        "outputId": "a5703b05-8d2c-4085-e695-3e6ba237e3d6"
      },
      "execution_count": null,
      "outputs": [
        {
          "output_type": "stream",
          "name": "stdout",
          "text": [
            "Frase invertida:  ana\n",
            "\" ana \" ---> Es un palíndromo\n"
          ]
        }
      ]
    }
  ]
}